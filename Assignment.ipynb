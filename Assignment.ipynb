{
  "metadata": {
    "kernelspec": {
      "name": "python",
      "display_name": "Pyolite",
      "language": "python"
    },
    "language_info": {
      "codemirror_mode": {
        "name": "python",
        "version": 3
      },
      "file_extension": ".py",
      "mimetype": "text/x-python",
      "name": "python",
      "nbconvert_exporter": "python",
      "pygments_lexer": "ipython3",
      "version": "3.8"
    }
  },
  "nbformat_minor": 4,
  "nbformat": 4,
  "cells": [
    {
      "cell_type": "markdown",
      "source": "# My Jupyter Notebook on IBM Watson Studio",
      "metadata": {}
    },
    {
      "cell_type": "markdown",
      "source": "**Anuj Agarwal**<br>\nData Scientist",
      "metadata": {}
    },
    {
      "cell_type": "markdown",
      "source": "*I am interested in data science because I love to work with data*",
      "metadata": {}
    },
    {
      "cell_type": "markdown",
      "source": "### cell5 will Print a string \"Hello IBM\" ",
      "metadata": {}
    },
    {
      "cell_type": "code",
      "source": "print(\"Hello IBM\")",
      "metadata": {
        "trusted": true
      },
      "execution_count": 1,
      "outputs": [
        {
          "name": "stdout",
          "text": "Hello IBM\n",
          "output_type": "stream"
        }
      ]
    },
    {
      "cell_type": "markdown",
      "source": "> Hi, I am Anuj\n* My Portfolio : <https://anuj.github.io/Portfolio/>\n* Email : <anuj@gmail.com>",
      "metadata": {}
    }
  ]
}